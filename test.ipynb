{
 "cells": [
  {
   "cell_type": "code",
   "execution_count": 1,
   "id": "2abfb567",
   "metadata": {},
   "outputs": [],
   "source": [
    "from khive.services.reader.reader_service import ReaderServiceGroup, ReaderRequest, ReaderAction, ReaderOpenParams"
   ]
  },
  {
   "cell_type": "code",
   "execution_count": 2,
   "id": "0f890fe0",
   "metadata": {},
   "outputs": [],
   "source": [
    "group = ReaderServiceGroup()\n"
   ]
  },
  {
   "cell_type": "code",
   "execution_count": 3,
   "id": "885447f7",
   "metadata": {},
   "outputs": [
    {
     "data": {
      "text/plain": [
       "ReaderResponse(success=False, error=\"Failed to save document: 'ids'\", content=ReaderOpenResponseContent(doc_info=None))"
      ]
     },
     "execution_count": 3,
     "metadata": {},
     "output_type": "execute_result"
    }
   ],
   "source": [
    "params = ReaderRequest(\n",
    "    action=ReaderAction.OPEN,\n",
    "    params=ReaderOpenParams(\n",
    "        path_or_url=\"https://www.anthropic.com/\",\n",
    "    )\n",
    ")\n",
    "await group.handle_request(params)"
   ]
  },
  {
   "cell_type": "code",
   "execution_count": null,
   "id": "9acfca2c",
   "metadata": {},
   "outputs": [],
   "source": []
  }
 ],
 "metadata": {
  "kernelspec": {
   "display_name": "khived",
   "language": "python",
   "name": "python3"
  },
  "language_info": {
   "codemirror_mode": {
    "name": "ipython",
    "version": 3
   },
   "file_extension": ".py",
   "mimetype": "text/x-python",
   "name": "python",
   "nbconvert_exporter": "python",
   "pygments_lexer": "ipython3",
   "version": "3.11.11"
  }
 },
 "nbformat": 4,
 "nbformat_minor": 5
}
